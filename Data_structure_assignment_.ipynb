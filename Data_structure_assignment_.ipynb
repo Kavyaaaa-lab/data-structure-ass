{
  "nbformat": 4,
  "nbformat_minor": 0,
  "metadata": {
    "colab": {
      "provenance": []
    },
    "kernelspec": {
      "name": "python3",
      "display_name": "Python 3"
    },
    "language_info": {
      "name": "python"
    }
  },
  "cells": [
    {
      "cell_type": "markdown",
      "source": [
        "**Theory Questions**"
      ],
      "metadata": {
        "id": "kU1aUdDeXYSw"
      }
    },
    {
      "cell_type": "markdown",
      "source": [
        "1.  What are data structures, and why are they important?"
      ],
      "metadata": {
        "id": "talxmQ6EHg6p"
      }
    },
    {
      "cell_type": "markdown",
      "source": [
        "Ans : Data structure is a way of organising and storing data so that it can be accessed and manipulated effiently. They are important because they provide various ways to store, access, and manipulate data according to specific needs."
      ],
      "metadata": {
        "id": "wN0NIfkRH2qJ"
      }
    },
    {
      "cell_type": "markdown",
      "source": [
        "2.  Explain the difference between mutable and immutable data types with examples"
      ],
      "metadata": {
        "id": "c9VoXLnQIhGl"
      }
    },
    {
      "cell_type": "markdown",
      "source": [
        "Ans : Mutable data types means which can be changed like list and immutable data types cannot be changed like tupples."
      ],
      "metadata": {
        "id": "5cdA-cXwKn9h"
      }
    },
    {
      "cell_type": "markdown",
      "source": [
        "3.  What are the main differences between lists and tuples in Python?"
      ],
      "metadata": {
        "id": "wh0z7RGKVFEh"
      }
    },
    {
      "cell_type": "markdown",
      "source": [
        "Ans : The main difference between lists and tuples is that list is mutuable and tuple is immutable."
      ],
      "metadata": {
        "id": "1jl776HPVJrm"
      }
    },
    {
      "cell_type": "markdown",
      "source": [
        "4. Describe how dictionaries store data."
      ],
      "metadata": {
        "id": "CJQrmsaTVwva"
      }
    },
    {
      "cell_type": "markdown",
      "source": [
        "Ans : Dictionary is a data structure that stores data as key value pair.\n",
        "Keys are unique and immutable. Dictionaries are unordered, but from Python 3.7 version, dictionaries retain the order of insertion.\n",
        "This means that if you iterate over a dictionary, the items will be returned in the order they were added."
      ],
      "metadata": {
        "id": "d9n-5r48V0-O"
      }
    },
    {
      "cell_type": "markdown",
      "source": [
        "5. Why might you use a set instead of a list in Python?"
      ],
      "metadata": {
        "id": "WKQWCUGiWyxN"
      }
    },
    {
      "cell_type": "markdown",
      "source": [
        "Ans : NA"
      ],
      "metadata": {
        "id": "9qt6x_ahXCdR"
      }
    },
    {
      "cell_type": "markdown",
      "source": [
        "6. What is a string in Python, and how is it different from a list?"
      ],
      "metadata": {
        "id": "8e-QQpCQXO4X"
      }
    },
    {
      "cell_type": "markdown",
      "source": [
        "Ans : String is a sequence of character. It represent and manipulate textual data.Characters are represented using numerical valueSs. Each character is assigned a unique no. Strings are immutable and list is mutable.\n"
      ],
      "metadata": {
        "id": "VntKt3p9XREG"
      }
    },
    {
      "cell_type": "markdown",
      "source": [
        "7.  How do tuples ensure data integrity in Python?"
      ],
      "metadata": {
        "id": "cycTnp6dY5J7"
      }
    },
    {
      "cell_type": "markdown",
      "source": [
        "Ans: Tuples help ensure data integrity in Python by being immutable, meaning their contents cannot be changed after creation."
      ],
      "metadata": {
        "id": "sxbAxS5ZZBfA"
      }
    },
    {
      "cell_type": "markdown",
      "source": [
        "8. What is a hash table, and how does it relate to dictionaries in Python?"
      ],
      "metadata": {
        "id": "X0gBchlvZDVN"
      }
    },
    {
      "cell_type": "markdown",
      "source": [
        "Ans : A hash table is a data structure that stores key-value pairs and uses a hash function to quickly locate a value based on its key. It is related to dictionaries because it uses key value pair."
      ],
      "metadata": {
        "id": "ax3ZA6sHZHYX"
      }
    },
    {
      "cell_type": "markdown",
      "source": [
        "9. Can lists contain different data types in Python?"
      ],
      "metadata": {
        "id": "7DRpnrPEki0O"
      }
    },
    {
      "cell_type": "markdown",
      "source": [
        "Ans : Yes"
      ],
      "metadata": {
        "id": "nBohXnVAkomi"
      }
    },
    {
      "cell_type": "markdown",
      "source": [
        "10. Explain why strings are immutable in Python?"
      ],
      "metadata": {
        "id": "V-vPDBYTkq35"
      }
    },
    {
      "cell_type": "markdown",
      "source": [
        "Ans : Strings are immutable in Python because once a string is created, its contents cannot be changed."
      ],
      "metadata": {
        "id": "ZlL5FmvgkwV5"
      }
    },
    {
      "cell_type": "markdown",
      "source": [
        "**Practical Questions**"
      ],
      "metadata": {
        "id": "XRZE5P_6fUP7"
      }
    },
    {
      "cell_type": "markdown",
      "source": [
        "1. Write a code to create a string with your name and print it."
      ],
      "metadata": {
        "id": "cS3LhkH4fX0i"
      }
    },
    {
      "cell_type": "code",
      "source": [
        "name = 'Kavya'\n",
        "print ('My name is',name)"
      ],
      "metadata": {
        "id": "4vne3Oplfm8e",
        "outputId": "a91d42ad-328e-4563-c45d-e0ec2ffa477b",
        "colab": {
          "base_uri": "https://localhost:8080/"
        }
      },
      "execution_count": 3,
      "outputs": [
        {
          "output_type": "stream",
          "name": "stdout",
          "text": [
            "My name is Kavya\n"
          ]
        }
      ]
    },
    {
      "cell_type": "markdown",
      "source": [
        "2. Write a code to find the length of the string \"Hello World\"\n"
      ],
      "metadata": {
        "id": "YePGLZHpgEep"
      }
    },
    {
      "cell_type": "code",
      "source": [
        "length = 'hello world'\n",
        "len(length)"
      ],
      "metadata": {
        "id": "EFCeMWdtgZSt",
        "outputId": "50a62425-425d-47ed-a50f-70dc2f57e4df",
        "colab": {
          "base_uri": "https://localhost:8080/"
        }
      },
      "execution_count": 4,
      "outputs": [
        {
          "output_type": "execute_result",
          "data": {
            "text/plain": [
              "11"
            ]
          },
          "metadata": {},
          "execution_count": 4
        }
      ]
    },
    {
      "cell_type": "markdown",
      "source": [
        "3. Write a code to slice the first 3 characters from the string \"Python Programming\".\n"
      ],
      "metadata": {
        "id": "AEXCZCpYgfHD"
      }
    },
    {
      "cell_type": "code",
      "source": [
        "a = 'python programming'\n",
        "letter = a [:3]\n",
        "print (letter)"
      ],
      "metadata": {
        "id": "026ZpPlVgkog",
        "outputId": "9b875bdf-de5d-49de-8ccb-e4f4e512ca62",
        "colab": {
          "base_uri": "https://localhost:8080/"
        }
      },
      "execution_count": 7,
      "outputs": [
        {
          "output_type": "stream",
          "name": "stdout",
          "text": [
            "pyt\n"
          ]
        }
      ]
    },
    {
      "cell_type": "markdown",
      "source": [
        "4.Write a code to convert the string \"hello\" to uppercase"
      ],
      "metadata": {
        "id": "hUpSG9bIhGbP"
      }
    },
    {
      "cell_type": "code",
      "source": [
        "a = 'hello'\n",
        "a.upper()"
      ],
      "metadata": {
        "id": "kz8joSJahK_v",
        "outputId": "adb2033e-953e-49ef-ddeb-8813da136cb8",
        "colab": {
          "base_uri": "https://localhost:8080/",
          "height": 36
        }
      },
      "execution_count": 8,
      "outputs": [
        {
          "output_type": "execute_result",
          "data": {
            "text/plain": [
              "'HELLO'"
            ],
            "application/vnd.google.colaboratory.intrinsic+json": {
              "type": "string"
            }
          },
          "metadata": {},
          "execution_count": 8
        }
      ]
    },
    {
      "cell_type": "markdown",
      "source": [
        "5. Write a code to replace the word \"apple\" with \"orange\" in the string \"I like apple\""
      ],
      "metadata": {
        "id": "P2NIX9vzhfDU"
      }
    },
    {
      "cell_type": "code",
      "source": [
        "a = 'i like apple'\n",
        "a.replace('apple','orange')"
      ],
      "metadata": {
        "id": "LVzC9WCrhj2B",
        "outputId": "bca097dc-b7b0-4ca0-d0bd-15455452ea2b",
        "colab": {
          "base_uri": "https://localhost:8080/",
          "height": 36
        }
      },
      "execution_count": 9,
      "outputs": [
        {
          "output_type": "execute_result",
          "data": {
            "text/plain": [
              "'i like orange'"
            ],
            "application/vnd.google.colaboratory.intrinsic+json": {
              "type": "string"
            }
          },
          "metadata": {},
          "execution_count": 9
        }
      ]
    },
    {
      "cell_type": "markdown",
      "source": [
        "6. Write a code to create a list with numbers 1 to 5 and print it."
      ],
      "metadata": {
        "id": "4OhB8LIQgDeK"
      }
    },
    {
      "cell_type": "code",
      "source": [
        "num = [1,2,3,4,5]\n",
        "print (num)"
      ],
      "metadata": {
        "colab": {
          "base_uri": "https://localhost:8080/"
        },
        "id": "hRDuo5ej__rw",
        "outputId": "a3609c69-5875-4857-d99d-aa8d35621edf"
      },
      "execution_count": 2,
      "outputs": [
        {
          "output_type": "stream",
          "name": "stdout",
          "text": [
            "[1, 2, 3, 4, 5]\n"
          ]
        }
      ]
    },
    {
      "cell_type": "markdown",
      "source": [
        "7.  Write a code to append the number 10 to the list [1, 2, 3, 4]"
      ],
      "metadata": {
        "id": "Nqici_PrAe4s"
      }
    },
    {
      "cell_type": "code",
      "source": [
        "lis = [1,2,3,4]\n",
        "lis.append(10)\n",
        "print (lis)"
      ],
      "metadata": {
        "colab": {
          "base_uri": "https://localhost:8080/"
        },
        "id": "fSW10cd7AlsN",
        "outputId": "b2de8fe4-05bb-4f4b-caab-64902f87f10d"
      },
      "execution_count": 3,
      "outputs": [
        {
          "output_type": "stream",
          "name": "stdout",
          "text": [
            "[1, 2, 3, 4, 10]\n"
          ]
        }
      ]
    },
    {
      "cell_type": "markdown",
      "source": [
        "8.  Write a code to remove the number 3 from the list [1, 2, 3, 4, 5]"
      ],
      "metadata": {
        "id": "wqQPo23wAxSO"
      }
    },
    {
      "cell_type": "code",
      "source": [
        "n = [1,2,3,4,5]\n",
        "n.remove(3)\n",
        "print (n)"
      ],
      "metadata": {
        "colab": {
          "base_uri": "https://localhost:8080/"
        },
        "id": "S770RTyUA3aM",
        "outputId": "53bdf04a-fa6a-4608-b262-624304abd229"
      },
      "execution_count": 5,
      "outputs": [
        {
          "output_type": "stream",
          "name": "stdout",
          "text": [
            "[1, 2, 4, 5]\n"
          ]
        }
      ]
    },
    {
      "cell_type": "markdown",
      "source": [
        "9.  Write a code to access the second element in the list ['a', 'b', 'c', 'd']"
      ],
      "metadata": {
        "id": "DCuA5jldBVUT"
      }
    },
    {
      "cell_type": "code",
      "source": [
        "c = ['a','b','c','d']\n",
        "c[1]"
      ],
      "metadata": {
        "colab": {
          "base_uri": "https://localhost:8080/",
          "height": 36
        },
        "id": "iuQ_GomCBfFI",
        "outputId": "020dc46e-ebc0-4176-aa0a-716d2b3f87b8"
      },
      "execution_count": 7,
      "outputs": [
        {
          "output_type": "execute_result",
          "data": {
            "text/plain": [
              "'b'"
            ],
            "application/vnd.google.colaboratory.intrinsic+json": {
              "type": "string"
            }
          },
          "metadata": {},
          "execution_count": 7
        }
      ]
    },
    {
      "cell_type": "markdown",
      "source": [
        "10. Write a code to reverse the list [10, 20, 30, 40, 50]."
      ],
      "metadata": {
        "id": "Hto9wee_B1gG"
      }
    },
    {
      "cell_type": "code",
      "source": [
        "c = [10,20,30,40,50]\n",
        "c.reverse()"
      ],
      "metadata": {
        "id": "rOO4WTOTiAd5"
      },
      "execution_count": 15,
      "outputs": []
    },
    {
      "cell_type": "markdown",
      "source": [
        "11. Write a code to create a tuple with the elements 100, 200, 300 and print it"
      ],
      "metadata": {
        "id": "9Hn8DYOFic8z"
      }
    },
    {
      "cell_type": "code",
      "source": [
        " c = (100,200,300)\n",
        " print (c)"
      ],
      "metadata": {
        "id": "vQELi3SsigvO",
        "outputId": "f99a1edc-e86c-40d2-ca43-5a0a383753c5",
        "colab": {
          "base_uri": "https://localhost:8080/"
        }
      },
      "execution_count": 16,
      "outputs": [
        {
          "output_type": "stream",
          "name": "stdout",
          "text": [
            "(100, 200, 300)\n"
          ]
        }
      ]
    },
    {
      "cell_type": "markdown",
      "source": [
        "12. Write a code to access the second-to-last element of the tuple ('red', 'green', 'blue', 'yellow')."
      ],
      "metadata": {
        "id": "wKhIuWfAiuJb"
      }
    },
    {
      "cell_type": "code",
      "source": [
        "color = ('red','green','blue','yellow')\n",
        "color[-2]"
      ],
      "metadata": {
        "id": "FoOv63whix45",
        "outputId": "764f86a5-18a0-4c63-e51b-60c8c4340456",
        "colab": {
          "base_uri": "https://localhost:8080/",
          "height": 36
        }
      },
      "execution_count": 18,
      "outputs": [
        {
          "output_type": "execute_result",
          "data": {
            "text/plain": [
              "'blue'"
            ],
            "application/vnd.google.colaboratory.intrinsic+json": {
              "type": "string"
            }
          },
          "metadata": {},
          "execution_count": 18
        }
      ]
    },
    {
      "cell_type": "markdown",
      "source": [
        "13. Write a code to find the minimum number in the tuple (10, 20, 5, 15)"
      ],
      "metadata": {
        "id": "xwWjry6ejB-X"
      }
    },
    {
      "cell_type": "code",
      "source": [
        "numbers = (10,20,5,15)\n",
        "min(numbers)"
      ],
      "metadata": {
        "id": "daYxxah6jFba",
        "outputId": "1a5bd677-5195-4399-ae84-9a229b64fc1b",
        "colab": {
          "base_uri": "https://localhost:8080/"
        }
      },
      "execution_count": 19,
      "outputs": [
        {
          "output_type": "execute_result",
          "data": {
            "text/plain": [
              "5"
            ]
          },
          "metadata": {},
          "execution_count": 19
        }
      ]
    },
    {
      "cell_type": "markdown",
      "source": [
        "14. Write a code to find the index of the element \"cat\" in the tuple ('dog', 'cat', 'rabbit')"
      ],
      "metadata": {
        "id": "_aaYCU-AjPSH"
      }
    },
    {
      "cell_type": "code",
      "source": [
        "animals = ('dog','cat','rabbit')\n",
        "animals.index('cat')"
      ],
      "metadata": {
        "id": "OtVyih5PjWk0",
        "outputId": "7fe08a15-95ca-498d-8b54-54c30942822c",
        "colab": {
          "base_uri": "https://localhost:8080/"
        }
      },
      "execution_count": 20,
      "outputs": [
        {
          "output_type": "execute_result",
          "data": {
            "text/plain": [
              "1"
            ]
          },
          "metadata": {},
          "execution_count": 20
        }
      ]
    },
    {
      "cell_type": "markdown",
      "source": [
        "15. Write a code to create a tuple containing three different fruits and check if \"kiwi\" is in it"
      ],
      "metadata": {
        "id": "n3pqq8zQjmgT"
      }
    },
    {
      "cell_type": "code",
      "source": [
        "fruits = ('apple','kiwi','orange')\n",
        "if 'kiwi' in fruits :\n",
        " print ('kiwi is in the tupple')\n",
        " else:\n",
        " print ('kiwi is not in the tupple')"
      ],
      "metadata": {
        "id": "H-4r3s_bjpWZ",
        "outputId": "adca800e-7fb5-4b89-d25e-12bbeeec363e",
        "colab": {
          "base_uri": "https://localhost:8080/",
          "height": 106
        }
      },
      "execution_count": 23,
      "outputs": [
        {
          "output_type": "error",
          "ename": "SyntaxError",
          "evalue": "invalid syntax (ipython-input-23-903042344.py, line 4)",
          "traceback": [
            "\u001b[0;36m  File \u001b[0;32m\"/tmp/ipython-input-23-903042344.py\"\u001b[0;36m, line \u001b[0;32m4\u001b[0m\n\u001b[0;31m    else:\u001b[0m\n\u001b[0m    ^\u001b[0m\n\u001b[0;31mSyntaxError\u001b[0m\u001b[0;31m:\u001b[0m invalid syntax\n"
          ]
        }
      ]
    }
  ]
}